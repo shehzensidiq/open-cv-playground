{
 "cells": [
  {
   "cell_type": "markdown",
   "source": [
    "We will see how to translate the image i.e rotate the image, shift the image etc.\n",
    "We will use, opencv and imutils which contains the translation and other function. We may need to write few lines of code in oen cv to make the translation happen, but imutils makes that a single function"
   ],
   "metadata": {
    "collapsed": false
   }
  },
  {
   "cell_type": "code",
   "execution_count": 1,
   "metadata": {
    "collapsed": true
   },
   "outputs": [],
   "source": [
    "import cv2"
   ]
  },
  {
   "cell_type": "markdown",
   "source": [
    "we create M = np.float32() -> is the translation matrix, where we give the translations that we need\n",
    "np.float32([[1,0, ShiftX], [0,1, shiftY]) - it is a 2 row matrix. Neg values of X will shift the image to left and positive to right and neg values for the y will make the image up down i.e black border at top and positive to down.\n",
    "\n",
    "`np.float32([[1,0, 25], [0,1,50]])` - will shift the image 25 to right and 50 down\n",
    "then we use `cv2.warpAffine(image, M, (width, height))`\n"
   ],
   "metadata": {
    "collapsed": false
   }
  },
  {
   "cell_type": "code",
   "execution_count": null,
   "outputs": [],
   "source": [],
   "metadata": {
    "collapsed": false,
    "pycharm": {
     "name": "#%%\n"
    }
   }
  }
 ],
 "metadata": {
  "kernelspec": {
   "display_name": "Python 3",
   "language": "python",
   "name": "python3"
  },
  "language_info": {
   "codemirror_mode": {
    "name": "ipython",
    "version": 2
   },
   "file_extension": ".py",
   "mimetype": "text/x-python",
   "name": "python",
   "nbconvert_exporter": "python",
   "pygments_lexer": "ipython2",
   "version": "2.7.6"
  }
 },
 "nbformat": 4,
 "nbformat_minor": 0
}